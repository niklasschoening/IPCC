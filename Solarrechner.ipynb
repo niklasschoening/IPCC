{
 "cells": [
  {
   "cell_type": "code",
   "execution_count": 3,
   "metadata": {},
   "outputs": [],
   "source": [
    "A=0 #Fläche\n",
    "x=0 #Sonneneinstrahlung/pro Jahr\n",
    "v=0 #Ertrag\n",
    "t=0 #Zeitraum bis Ertrag\n",
    "p=0 #Preis\n",
    "e=0 #jährlicher Preis regulär\n",
    "\n",
    "import pandas as pd\n",
    "import csv\n",
    "\n",
    "def Input():\n",
    "\n",
    "    A = int(input(\"Wie viele Module? \"))\n",
    "    kwP = int(input(\"Was ist der kwP pro Modul? \"))\n",
    "    #x = int(input(\"Wie viel Sonne fällt jährlich? [in Einheit] \"))\n",
    "    v = A*kwP\n",
    "    p = int(input(\"Wie viel kostet die Anlage? [in €] \"))\n",
    "    e = int(input(\"wie viel Energie wird jährlich gespart? [in €] \"))\n",
    "    t = p/e\n",
    "\n",
    "    print(\"Nach \" +str(t)+ \" Jahren ist die Anlage profitabel\" )\n",
    "    print(\"Die Anlage produziert jährlich \" +str(v)+ \" Einheit\")\n",
    "\n",
    "    f = open('data.csv', 'w+')\n",
    "    writer = csv.writer(f)\n",
    "    writer.writerow(['Id']+['Monat']+['Energie'])\n",
    "\n",
    "    df1 = pd.read_csv('db/sun.csv')\n",
    "\n",
    "    ArrS = [0,0,0,0,0,0,0,0,0,0,0,0]\n",
    "    ArrE = [0,0,0,0,0,0,0,0,0,0,0,0]\n",
    "    ArrM = ['Januar', 'Februar', 'März', 'April', 'Mai', 'Juni', 'Juli', 'August', ' September', 'Oktober', 'November', 'Dezember']\n",
    "\n",
    "    i = 0\n",
    "    while i<len(ArrE):\n",
    "        ArrS[i]= df1.Sonnenstunden[i]\n",
    "        ArrE[i]=A*ArrS[i]\n",
    "        print(f\"Energie = {str(A)}*{str(ArrS[i])}\")\n",
    "        writer.writerow([i+1]+[ArrM[i]]+[ArrE[i]])\n",
    "        i += 1\n",
    "\n",
    "    f.close()\n"
   ]
  },
  {
   "cell_type": "code",
   "execution_count": 4,
   "metadata": {},
   "outputs": [
    {
     "name": "stdout",
     "output_type": "stream",
     "text": [
      "Nach 1.0 Jahren ist die Anlage profitabel\n",
      "Die Anlage produziert jährlich 4 Einheit\n",
      "Energie = 2*49\n",
      "Energie = 2*76\n",
      "Energie = 2*117\n",
      "Energie = 2*151\n",
      "Energie = 2*189\n",
      "Energie = 2*202\n",
      "Energie = 2*229\n",
      "Energie = 2*206\n",
      "Energie = 2*166\n",
      "Energie = 2*117\n",
      "Energie = 2*62\n",
      "Energie = 2*45\n"
     ]
    }
   ],
   "source": [
    "Input()"
   ]
  },
  {
   "cell_type": "code",
   "execution_count": null,
   "metadata": {},
   "outputs": [],
   "source": []
  }
 ],
 "metadata": {
  "kernelspec": {
   "display_name": "Python 3.11.0 64-bit",
   "language": "python",
   "name": "python3"
  },
  "language_info": {
   "codemirror_mode": {
    "name": "ipython",
    "version": 3
   },
   "file_extension": ".py",
   "mimetype": "text/x-python",
   "name": "python",
   "nbconvert_exporter": "python",
   "pygments_lexer": "ipython3",
   "version": "3.11.0"
  },
  "orig_nbformat": 4,
  "vscode": {
   "interpreter": {
    "hash": "ebfc0a8d552866b0d59eba665220a57de3bc06f3ac643b8bef38dd8f66781fdd"
   }
  }
 },
 "nbformat": 4,
 "nbformat_minor": 2
}
